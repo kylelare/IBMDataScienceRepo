{
 "cells": [
  {
   "cell_type": "code",
   "execution_count": null,
   "id": "a660fb3a-c077-41e2-b48b-e59e7fb3a5c0",
   "metadata": {},
   "outputs": [],
   "source": [
    "# Data Science Tools and Ecosystem\n"
   ]
  },
  {
   "cell_type": "code",
   "execution_count": null,
   "id": "32793830-ae31-4364-954f-eeb4a641e071",
   "metadata": {},
   "outputs": [],
   "source": [
    "In this notebook, Data Science Tools and Ecosystem are summarized.\n"
   ]
  },
  {
   "cell_type": "code",
   "execution_count": null,
   "id": "be083b74-0a25-40c2-9799-6a57dfb36d82",
   "metadata": {},
   "outputs": [],
   "source": [
    "Some of the popular languages that Data Scientists use are:\n",
    "1. Python\n",
    "2. R\n",
    "3. SQL\n"
   ]
  },
  {
   "cell_type": "code",
   "execution_count": null,
   "id": "57ff601f-ae05-4c23-9500-8d57a3f318c3",
   "metadata": {},
   "outputs": [],
   "source": [
    "Some of the commonly used libraries used by Data Scientists include:\n",
    "1. NumPy\n",
    "2. Pandas\n",
    "3. Matplotlib\n"
   ]
  },
  {
   "cell_type": "code",
   "execution_count": null,
   "id": "1939f7f4-9ea1-4288-8a1d-54b7082f761b",
   "metadata": {},
   "outputs": [],
   "source": [
    "| Data Science Tools |\n",
    "|--------------------|\n",
    "| Jupyter Notebook   |\n",
    "| RStudio            |\n",
    "| Apache Zeppelin    |\n"
   ]
  },
  {
   "cell_type": "code",
   "execution_count": null,
   "id": "08de60bb-3174-4e9b-9a87-705a7e24b625",
   "metadata": {},
   "outputs": [],
   "source": [
    "### Below are a few examples of evaluating arithmetic expressions in Python.\n"
   ]
  },
  {
   "cell_type": "code",
   "execution_count": null,
   "id": "82a2758a-543d-44d6-9a89-fd5cb72c4e87",
   "metadata": {},
   "outputs": [],
   "source": [
    "# This a simple arithmetic expression to multiply then add integers\n",
    "(3*4)+5\n"
   ]
  },
  {
   "cell_type": "code",
   "execution_count": null,
   "id": "22388439-de31-4041-941e-fc4d90ad8f1b",
   "metadata": {},
   "outputs": [],
   "source": [
    "# This will convert 200 minutes to hours by dividing by 60\n",
    "200 / 60\n"
   ]
  },
  {
   "cell_type": "code",
   "execution_count": null,
   "id": "17bf5aa8-37d3-4e1f-8434-aca5e1da30af",
   "metadata": {},
   "outputs": [],
   "source": [
    "**Objectives:**\n",
    "- List popular languages for Data Science\n",
    "- List commonly used libraries in Data Science\n",
    "- Demonstrate basic arithmetic operations in Python\n",
    "- Highlight popular Data Science tools\n"
   ]
  },
  {
   "cell_type": "code",
   "execution_count": null,
   "id": "98361e5f-6af1-4287-be84-3e4c746914b1",
   "metadata": {},
   "outputs": [],
   "source": [
    "## Author\n",
    "Kyle Lare\n"
   ]
  }
 ],
 "metadata": {
  "kernelspec": {
   "display_name": "Python 3 (ipykernel)",
   "language": "python",
   "name": "python3"
  },
  "language_info": {
   "codemirror_mode": {
    "name": "ipython",
    "version": 3
   },
   "file_extension": ".py",
   "mimetype": "text/x-python",
   "name": "python",
   "nbconvert_exporter": "python",
   "pygments_lexer": "ipython3",
   "version": "3.10.13"
  }
 },
 "nbformat": 4,
 "nbformat_minor": 5
}
